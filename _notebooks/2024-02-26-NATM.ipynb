{
 "cells": [
  {
   "cell_type": "markdown",
   "metadata": {},
   "source": [
    "---\n",
    "toc: false\n",
    "comments: false\n",
    "layout: post\n",
    "title: NATM Final\n",
    "description: CPT\n",
    "type: hacks\n",
    "courses: { compsci: {week: 12} }\n",
    "---"
   ]
  },
  {
   "cell_type": "markdown",
   "metadata": {},
   "source": [
    "# Night at the Mesuem Final and CPT Overview"
   ]
  },
  {
   "cell_type": "markdown",
   "metadata": {},
   "source": [
    "Our Team's idea for the CPT was to recreate spotify to learn skills that are applicable to the real world, and in a working product. We wanted to get the biggest feature of spotify, the playing songs feature, to work, and hoped to add in a few of our own kicks to the project."
   ]
  },
  {
   "cell_type": "markdown",
   "metadata": {},
   "source": [
    "## What Everyone Did:"
   ]
  },
  {
   "cell_type": "markdown",
   "metadata": {},
   "source": [
    "Shubhay: Worked on a mixture of Front and Bakend. On the Frontend he developed the dynamic javascript and making the website resemble spotify. The Dynamics worked to reflexivly map through the lists of songs to make creating new songs easy. On the backend he devloped his portion of the songs model and api. Which was used to gain a list of songs, images, and song links that the API could map through. \n",
    "\n",
    "Tanvi: Worked on playing the songs. By developing the stucture of the songs database, she was able to get the song links to work properly and fetched them onto the frontend using their respective ID's. By developing the second half of the songs api, which was the /api/songs/[id] page we were able to individually grab the songs ID and play them when needed. Finnaly on the individual songs pages she grabbed the indivdual data of the song, and used it to create a play button that  plays or stops the song depending on the user. \n",
    "\n",
    "\n",
    "Tanay: Worked on the login page and frontend animations. On the frontend he made all the pages properly link together and used javascript to automatically pagnate the songs depending on how many songs their were. He used javascript to design all of the animations when clicking the songs. On the backend he developed the entire login functionality, and used it to spur future functionalities like liking and creating.\n",
    "\n",
    "Pranavi: Worked on the songs individualistic pages, and the create function. Using a mix of javascript, and python she made it so when clicking on a song it automatically created a new web page with only that songs details being used.  By using the songs indivdual id's and the /api/song/[id] page the songs were able to indivually display themselves, and grabbed all the neccsary data. On the create function she made a form that users can fill and it posts to the songs database. "
   ]
  },
  {
   "cell_type": "markdown",
   "metadata": {},
   "source": [
    "# Feature Description:\n",
    "\n",
    "\n",
    "**Spotify Clone Features:**\n",
    "\n",
    "1. **Dynamic Frontend Development:**\n",
    "   - Implemented dynamic JavaScript for a Spotify-like user interface.\n",
    "   - Enabled reflexive mapping through song lists, simplifying new song additions.\n",
    "   - Contributed to the frontend design for a visually appealing resemblance to Spotify.\n",
    "\n",
    "2. **Songs Database and Playback:**\n",
    "   - Structured the songs database for proper song link functionality.\n",
    "   - Developed the /api/songs/[id] endpoint for individual song retrieval.\n",
    "   - Created pages for individual songs with play and pause functionality.\n",
    "\n",
    "3. **Login Page and Frontend Animations:**\n",
    "   - Linked all pages for seamless navigation.\n",
    "   - Dynamically paginated song lists based on quantity.\n",
    "   - Designed frontend animations for an enhanced user interaction.\n",
    "   - Spearheaded backend development of the login functionality.\n",
    "\n",
    "4. **Individualistic Song Pages and Create Functionality:**\n",
    "   - Implemented individual representation of songs using JavaScript and Python.\n",
    "   - Automatically generated dedicated web pages for each song using unique IDs and /api/song/[id].\n",
    "   - Introduced a creation function allowing users to fill out a form for easy song additions to the database.\n"
   ]
  }
 ],
 "metadata": {
  "language_info": {
   "name": "python"
  }
 },
 "nbformat": 4,
 "nbformat_minor": 2
}
