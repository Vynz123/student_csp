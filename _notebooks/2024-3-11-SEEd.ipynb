{
 "cells": [
  {
   "cell_type": "markdown",
   "metadata": {},
   "source": [
    "---\n",
    "toc: false\n",
    "comments: false\n",
    "layout: post\n",
    "title: SEED\n",
    "description: DS\n",
    "type: hacks\n",
    "courses: { compsci: {week: 22} }\n",
    "---"
   ]
  },
  {
   "cell_type": "markdown",
   "metadata": {},
   "source": [
    "testing"
   ]
  }
 ],
 "metadata": {
  "language_info": {
   "name": "python"
  }
 },
 "nbformat": 4,
 "nbformat_minor": 2
}
