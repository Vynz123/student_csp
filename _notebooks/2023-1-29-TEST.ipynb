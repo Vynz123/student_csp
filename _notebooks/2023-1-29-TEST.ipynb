{
 "cells": [
  {
   "cell_type": "markdown",
   "metadata": {},
   "source": [
    "---\n",
    "# this is YAML front matter\n",
    "layout: post\n",
    "title: Python IO\n",
    "description: These examples show the basic language structures and constructs of Python using input and output (print) commands.\n",
    "courses: { csp: {week: 12, categories: [1.A, 3.A, 4.B]} }\n",
    "categories: [C4.0]\n",
    "type: ccc\n",
    "---"
   ]
  }
 ],
 "metadata": {
  "language_info": {
   "name": "python"
  }
 },
 "nbformat": 4,
 "nbformat_minor": 2
}
