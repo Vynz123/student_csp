{
 "cells": [
  {
   "cell_type": "markdown",
   "metadata": {},
   "source": [
    "---\n",
    "toc: false\n",
    "comments: false\n",
    "layout: post\n",
    "title: Final Tri 2\n",
    "description: CPT\n",
    "type: hacks\n",
    "courses: { compsci: {week: 12} }\n",
    "---"
   ]
  },
  {
   "cell_type": "markdown",
   "metadata": {},
   "source": [
    "# What we Made\n",
    "\n",
    "Our Team's idea for the CPT was to recreate spotify to learn skills that are applicable to the real world, and in a working product. We wanted to get the biggest feature of spotify, the playing songs feature, to work, and hoped to add in a few of our own kicks to the project."
   ]
  },
  {
   "cell_type": "markdown",
   "metadata": {},
   "source": [
    "## My Feature\n",
    "\n",
    "Developed the feature to display all the songs and interact with them. Set up the /api/songs page on the backend to create a list of all the songs inorder to fetch them onto the frontend. On the frontend I mapped through this list and displayed all the songs reflexivly, and on the backend I created the model and API code for the backend to work. I developed the structure of the database to include a name, song image url, song mp3 url, and a token to act as a personal identifier of the song."
   ]
  },
  {
   "cell_type": "markdown",
   "metadata": {},
   "source": [
    "# Part A CPT \n",
    "\n",
    "| CPT Requirements | My Project |\n",
    "|------------------|------------------|\n",
    "| Instructions for input from one of the following: the user, a device, an online data stream, a file | Our project takes the users input to determine what song  they currently cliked on to play. The project also includes a create song feature which is a form that lets users fill data, and then display it|\n",
    "| Use of at least one list (or other collection type) to represent a collection of data that is stored and used to manage program complexity and help fulfill the users purpose. | The songs database is a list of songs along with the important info, i.e name, url, mp3 url, id etc. This is used in the project by fetching this list in the frontend and mapping through it to display all the songs and their details.  |\n",
    "| At least one procedure that contirubted to the program’s intened purpose where you have defined: the name, return type, one or more parameters: | In this code theres a name, SongAPI, POST, GET theres a return type, JSON, and theres parameters like name description etc ![Image](images/cpt1.png) |\n",
    "| An algorithm that includes sequencing, selection, and iteration that is in the body of the selected procedure | Function to fetch the songs data iterate through it and automcatically make the songcards ![Image 2](images/cpt2.png) |\n",
    "| Calls to your student-developed prodcedure: | Calling the function, grabbing the data, and returning the data in json format displaying the read part of CRUD ![Image 3](images/cpt3.png) |\n",
    "| Instructions for output (tactile, audible, visual) based on input and program functionality | Fetches the songs data and displays them for the users on the frontend. This is all done dynamically![Image 4](images/cpt2.png) |\n"
   ]
  }
 ],
 "metadata": {
  "language_info": {
   "name": "python"
  }
 },
 "nbformat": 4,
 "nbformat_minor": 2
}
