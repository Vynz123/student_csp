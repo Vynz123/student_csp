{
 "cells": [
  {
   "cell_type": "markdown",
   "metadata": {},
   "source": [
    "Describe PII you have seen on a project in CompSci Principles.\n",
    "Describe good and bad passwords? What is another step that is used to assist in authentication?\n",
    "Try to describe Symmetric and Asymmetric encryption.\n",
    "Provide an example of encryption we used in AWS deployment.\n",
    "Create a python script that lets the user input a password that is checked by the program\n",
    "BONUS: Use online wordlists to compare the password, preventing dictionary attacks\n",
    "\n",
    "\n",
    "Answers\n",
    "\n",
    "### Personal Identifiable Information (PII) in Computer Science Principles\n",
    "In a Computer Science project, PII may encompass various sensitive data points like names, addresses, phone numbers, social security numbers, email addresses, financial information, or any other data that directly identifies an individual. Protecting PII is crucial to maintain privacy and prevent unauthorized access or misuse of personal data.\n",
    "\n",
    "### Good and Bad Passwords\n",
    "- **Good Passwords**: Strong passwords are lengthy, unique, and complex. They contain a mix of upper and lower case letters, numbers, and special characters. They are not easily guessable and are unique to each account.\n",
    "- **Bad Passwords**: Weak passwords are short, simple, and predictable. They often include easily accessible personal information like birthdays, common words, or consecutive characters (e.g., \"password123\"). These are vulnerable to brute-force attacks.\n",
    "\n",
    "### Additional Authentication Step\n",
    "Multi-factor authentication (MFA) is an added layer of security beyond just a username and password. It requires users to provide at least two forms of identification before accessing an account. This can be a code sent to a mobile device, a fingerprint scan, or a security token in addition to the regular password.\n",
    "\n",
    "### Symmetric and Asymmetric Encryption\n",
    "- **Symmetric Encryption**: In symmetric encryption, the same key is used for both encryption and decryption. It's fast and efficient for large volumes of data. Examples include AES (Advanced Encryption Standard) and DES (Data Encryption Standard).\n",
    "- **Asymmetric Encryption**: Asymmetric encryption involves a pair of keys: a public key used for encryption and a private key for decryption. It ensures secure communication without sharing the private key. Examples include RSA and ECC (Elliptic Curve Cryptography).\n",
    "\n",
    "### Encryption in AWS Deployment\n",
    "In AWS, encryption is commonly implemented through services like AWS Key Management Service (KMS) or AWS CloudHSM. For instance, AWS KMS allows users to manage encryption keys that protect their data stored in various AWS services.\n"
   ]
  },
  {
   "cell_type": "code",
   "execution_count": null,
   "metadata": {},
   "outputs": [],
   "source": [
    "import re\n",
    "import requests\n",
    "\n",
    "def check_password_strength(password):\n",
    "    # Check password length\n",
    "    if len(password) < 8:\n",
    "        return False, \"Password should be at least 8 characters long.\"\n",
    "\n",
    "    # Check for uppercase, lowercase, digits, and special characters\n",
    "    if not re.search(r\"[A-Z]\", password) or \\\n",
    "       not re.search(r\"[a-z]\", password) or \\\n",
    "       not re.search(r\"\\d\", password) or \\\n",
    "       not re.search(r\"[!@#$%^&*()\\-_=+{};:,<.>/?]\", password):\n",
    "        return False, \"Password should contain at least one uppercase letter, one lowercase letter, one digit, and one special character.\"\n",
    "\n",
    "    # Check against online wordlists to prevent dictionary attacks (BONUS)\n",
    "    response = requests.get(\"https://raw.githubusercontent.com/danielmiessler/SecLists/master/Passwords/Common-Credentials/10-million-password-list-top-10000.txt\")\n",
    "    if response.status_code == 200:\n",
    "        wordlist = response.text.split(\"\\n\")\n",
    "        if password.lower() in wordlist:\n",
    "            return False, \"Password is too common and easily guessable.\"\n",
    "    \n",
    "    return True, \"Password is strong.\"\n",
    "\n",
    "# Get user input for password\n",
    "user_password = input(\"Enter your password: \")\n",
    "\n",
    "# Check password strength\n",
    "is_strong, message = check_password_strength(user_password)\n",
    "\n",
    "# Display result\n",
    "if is_strong:\n",
    "    print(\"Password is strong!\")\n",
    "else:\n",
    "    print(f\"Weak password: {message}\")\n"
   ]
  }
 ],
 "metadata": {
  "language_info": {
   "name": "python"
  }
 },
 "nbformat": 4,
 "nbformat_minor": 2
}
